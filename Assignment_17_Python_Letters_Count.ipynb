{
 "cells": [
  {
   "cell_type": "code",
   "execution_count": null,
   "id": "af72238d",
   "metadata": {},
   "outputs": [],
   "source": [
    "sentence = input(\"Give text or word: \")\n",
    "list_sentence = list(sentence)\n",
    "list_letter = []\n",
    "num_letter = []\n",
    "\n",
    "for i in list_sentence:\n",
    "        list_letter.append(i)\n",
    "        num_letter.append(list_sentence.count(i))\n",
    "        dict_letter_num = dict(zip(list_letter, num_letter))\n",
    "\n",
    "print(dict_letter_num)"
   ]
  }
 ],
 "metadata": {
  "kernelspec": {
   "display_name": "Python 3 (ipykernel)",
   "language": "python",
   "name": "python3"
  },
  "language_info": {
   "codemirror_mode": {
    "name": "ipython",
    "version": 3
   },
   "file_extension": ".py",
   "mimetype": "text/x-python",
   "name": "python",
   "nbconvert_exporter": "python",
   "pygments_lexer": "ipython3",
   "version": "3.9.13"
  }
 },
 "nbformat": 4,
 "nbformat_minor": 5
}
